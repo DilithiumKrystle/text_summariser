{
  "nbformat": 4,
  "nbformat_minor": 0,
  "metadata": {
    "colab": {
      "name": "number_guess.ipynb",
      "provenance": [],
      "include_colab_link": true
    },
    "kernelspec": {
      "name": "python3",
      "display_name": "Python 3"
    },
    "language_info": {
      "name": "python"
    }
  },
  "cells": [
    {
      "cell_type": "markdown",
      "metadata": {
        "id": "view-in-github",
        "colab_type": "text"
      },
      "source": [
        "<a href=\"https://colab.research.google.com/github/DilithiumKrystle/text_summariser/blob/main/number_guess.ipynb\" target=\"_parent\"><img src=\"https://colab.research.google.com/assets/colab-badge.svg\" alt=\"Open In Colab\"/></a>"
      ]
    },
    {
      "cell_type": "code",
      "execution_count": null,
      "metadata": {
        "colab": {
          "base_uri": "https://localhost:8080/"
        },
        "id": "qzvdfufMdkWc",
        "outputId": "f08ce454-adda-48e7-e58c-2df04a38b882"
      },
      "outputs": [
        {
          "output_type": "stream",
          "name": "stdout",
          "text": [
            "Guess the Number, by Al Sweigart al@inventwithpython.com\n",
            "\n",
            "I am thinking of a number between 1 and 100.\n",
            "You have 10 guesses left. Take a guess.\n",
            "> 50\n",
            "Your guess is too low.\n",
            "You have 9 guesses left. Take a guess.\n",
            "> 75\n",
            "Your guess is too high.\n",
            "You have 8 guesses left. Take a guess.\n",
            "> 62\n",
            "Your guess is too low.\n",
            "You have 7 guesses left. Take a guess.\n",
            "> 56\n",
            "Your guess is too low.\n",
            "You have 6 guesses left. Take a guess.\n",
            "> 70\n",
            "Your guess is too high.\n",
            "You have 5 guesses left. Take a guess.\n",
            "> 67\n",
            "Your guess is too low.\n",
            "You have 4 guesses left. Take a guess.\n",
            "> 69\n",
            "Your guess is too high.\n",
            "You have 3 guesses left. Take a guess.\n",
            "> 68\n",
            "Yay! You guessed my number!\n"
          ]
        }
      ],
      "source": [
        "import random\n",
        "\n",
        "def askForGuess():\n",
        "  while True:\n",
        "    guess = input('> ')  # Enter the guess.\n",
        "\n",
        "    if guess.isdecimal():\n",
        "      return int(guess)  # Convert string guess to an integer.\n",
        "    print('Please enter a number between 1 and 100.')\n",
        "\n",
        "secretNumber = random.randint(1, 100)  # Select a random number.\n",
        "print('I am thinking of a number between 1 and 100.')\n",
        "\n",
        "for i in range(10):  # Give the player 10 guesses.\n",
        "    print('You have {} guesses left. Take a guess.'.format(10 - i))\n",
        "\n",
        "    guess = askForGuess()\n",
        "    if guess == secretNumber:\n",
        "        break  # Break out of the for loop if the guess is correct.\n",
        "\n",
        "    # Offer a hint:\n",
        "    if guess < secretNumber:\n",
        "        print('Your guess is too low.')\n",
        "    if guess > secretNumber:\n",
        "        print('Your guess is too high.')\n",
        "\n",
        "# Reveal the results:\n",
        "if guess == secretNumber:\n",
        "    print('Yay! You guessed my number!')\n",
        "else:\n",
        "    print('Game over. The number I was thinking of was', secretNumber)\n"
      ]
    },
    {
      "cell_type": "code",
      "source": [
        ""
      ],
      "metadata": {
        "id": "uRI960ekeEan"
      },
      "execution_count": null,
      "outputs": []
    }
  ]
}